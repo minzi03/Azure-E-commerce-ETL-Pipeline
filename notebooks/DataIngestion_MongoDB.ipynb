{
 "cells": [
  {
   "cell_type": "code",
   "execution_count": null,
   "id": "21d53181",
   "metadata": {},
   "outputs": [],
   "source": [
    "# importing module\n",
    "from pymongo import MongoClient\n",
    "\n",
    "hostname = \"e8yj8.h.filess.io\"\n",
    "database = \"olistDataNoSQL_represent\"\n",
    "port = \"61004\"\n",
    "username = \"olistDataNoSQL_represent\"\n",
    "password = \"b50530ecbbb0978dc6f199a18427e5c23f30d43a\"\n",
    "\n",
    "uri = \"mongodb://\" + username + \":\" + password + \"@\" + hostname + \":\" + port + \"/\" + database\n",
    "\n",
    "# Connect with the portnumber and host\n",
    "client = MongoClient(uri)\n",
    "\n",
    "# Access database\n",
    "mydatabase = client[database]\n"
   ]
  }
 ],
 "metadata": {
  "language_info": {
   "name": "python"
  }
 },
 "nbformat": 4,
 "nbformat_minor": 5
}
