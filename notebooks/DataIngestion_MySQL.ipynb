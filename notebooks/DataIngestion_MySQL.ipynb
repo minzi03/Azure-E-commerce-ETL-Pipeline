{
 "cells": [
  {
   "cell_type": "code",
   "execution_count": null,
   "id": "874f1b61",
   "metadata": {},
   "outputs": [],
   "source": [
    "import mysql.connector\n",
    "from mysql.connector import Error\n",
    "\n",
    "hostname = \"iycsm.h.filess.io\"\n",
    "database = \"olistproject_pipeplane\"\n",
    "port = \"61002\"\n",
    "username = \"olistproject_pipeplane\"\n",
    "password = \"ecd31e514faa58f5832f0a881ff5a5b874e4668e\"\n",
    "\n",
    "try:\n",
    "    connection = mysql.connector.connect(host=hostname, database=database, user=username, password=password, port=port)\n",
    "    if connection.is_connected():\n",
    "        db_Info = connection.get_server_info()\n",
    "        print(\"Connected to MySQL Server version \", db_Info)\n",
    "        cursor = connection.cursor()\n",
    "        cursor.execute(\"select database();\")\n",
    "        record = cursor.fetchone()\n",
    "        print(\"You're connected to database: \", record)\n",
    "\n",
    "except Error as e:\n",
    "    print(\"Error while connecting to MySQL\", e)\n",
    "finally:\n",
    "    if connection.is_connected():\n",
    "        cursor.close()\n",
    "        connection.close()\n",
    "        print(\"MySQL connection is closed\")\n",
    "\n"
   ]
  }
 ],
 "metadata": {
  "language_info": {
   "name": "python"
  }
 },
 "nbformat": 4,
 "nbformat_minor": 5
}
